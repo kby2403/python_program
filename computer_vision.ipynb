{
 "cells": [
  {
   "cell_type": "code",
   "execution_count": 35,
   "id": "70d8192c",
   "metadata": {},
   "outputs": [],
   "source": [
    "import cv2"
   ]
  },
  {
   "cell_type": "code",
   "execution_count": 2,
   "id": "6cb04210",
   "metadata": {},
   "outputs": [
    {
     "data": {
      "text/plain": [
       "'4.5.3'"
      ]
     },
     "execution_count": 2,
     "metadata": {},
     "output_type": "execute_result"
    }
   ],
   "source": [
    "cv2.__version__"
   ]
  },
  {
   "cell_type": "code",
   "execution_count": 3,
   "id": "4971d966",
   "metadata": {},
   "outputs": [],
   "source": [
    "# 실습 1. 영상 파일 읽기 및 화면 표시"
   ]
  },
  {
   "cell_type": "code",
   "execution_count": 4,
   "id": "e22a5579",
   "metadata": {},
   "outputs": [],
   "source": [
    "imgFile='./data/lena.jpg'"
   ]
  },
  {
   "cell_type": "code",
   "execution_count": 5,
   "id": "efc8a4ee",
   "metadata": {},
   "outputs": [],
   "source": [
    "img = cv2.imread(imgFile)\n",
    "img2=cv2.imread(imgFile,0)"
   ]
  },
  {
   "cell_type": "code",
   "execution_count": null,
   "id": "609f32cb",
   "metadata": {},
   "outputs": [],
   "source": [
    "cv2.imshow(\"lena Color\",img)\n",
    "cv2.imshow(\"lena GrayScale\",img2)\n",
    "\n",
    "cv2.waitKey()\n",
    "cv2.destroyAllWindows()"
   ]
  },
  {
   "cell_type": "code",
   "execution_count": null,
   "id": "d4f87bb8",
   "metadata": {},
   "outputs": [],
   "source": [
    "#실습 2. 영상 파일 저장"
   ]
  },
  {
   "cell_type": "code",
   "execution_count": null,
   "id": "50b52508",
   "metadata": {},
   "outputs": [],
   "source": [
    "imgFile = './data/lena.jpg'\n",
    "img = cv2.imread(imgFile)\n",
    "\n",
    "cv2.imwrite('./out/Lena.bmp',img)\n",
    "cv2.imwrite('./out/Lena.png',img)\n",
    "cv2.imwrite('./out/Lena_compression.png',img, [cv2.IMWRITE_PNG_COMPRESSION, 9])\n",
    "cv2.imwrite('./out/Lena_compressiion.jpg',img, [cv2.IMWRITE_JPEG_QUALITY, 90])"
   ]
  },
  {
   "cell_type": "code",
   "execution_count": null,
   "id": "bcb29da4",
   "metadata": {},
   "outputs": [],
   "source": [
    "# 실습 3. matplotlib 컬러영상 표기"
   ]
  },
  {
   "cell_type": "code",
   "execution_count": 36,
   "id": "e9d97b5b",
   "metadata": {},
   "outputs": [],
   "source": [
    "import matplotlib.pyplot as plt"
   ]
  },
  {
   "cell_type": "code",
   "execution_count": null,
   "id": "70ff3f31",
   "metadata": {},
   "outputs": [],
   "source": [
    "imgFile = './data/lena.jpg'\n",
    "img = cv2.imread(imgFile)\n",
    "\n",
    "plt.imshow(img)\n",
    "plt.show()"
   ]
  },
  {
   "cell_type": "code",
   "execution_count": null,
   "id": "1a322e90",
   "metadata": {},
   "outputs": [],
   "source": [
    "img.shape"
   ]
  },
  {
   "cell_type": "code",
   "execution_count": 37,
   "id": "cc870519",
   "metadata": {},
   "outputs": [],
   "source": [
    "import numpy as np\n",
    "imgRGB = np.zeros((512,512,3), dtype='uint8')"
   ]
  },
  {
   "cell_type": "code",
   "execution_count": null,
   "id": "7f07f240",
   "metadata": {
    "scrolled": false
   },
   "outputs": [],
   "source": [
    "imgRGB[:,:,2]=img[:,:,0]\n",
    "\n",
    "imgRGB[:,:,1]=img[:,:,1]\n",
    "\n",
    "imgRGB[:,:,0]=img[:,:,2]"
   ]
  },
  {
   "cell_type": "code",
   "execution_count": null,
   "id": "3d23f365",
   "metadata": {},
   "outputs": [],
   "source": [
    "plt.imshow(imgRGB)\n",
    "plt.show()"
   ]
  },
  {
   "cell_type": "code",
   "execution_count": null,
   "id": "d68b2d00",
   "metadata": {},
   "outputs": [],
   "source": [
    "imgRGB=cv2.cvtColor(img,cv2.COLOR_BGR2RGB)"
   ]
  },
  {
   "cell_type": "code",
   "execution_count": null,
   "id": "87143d98",
   "metadata": {},
   "outputs": [],
   "source": [
    "plt.imshow(imgRGB)\n",
    "plt.show()"
   ]
  },
  {
   "cell_type": "code",
   "execution_count": null,
   "id": "20a267a7",
   "metadata": {},
   "outputs": [],
   "source": [
    "#실습 4. matplotlib2 : 그레이 스케일 영상 표기"
   ]
  },
  {
   "cell_type": "code",
   "execution_count": null,
   "id": "563c53e2",
   "metadata": {},
   "outputs": [],
   "source": [
    "imgFile = './data/lena.jpg'\n",
    "imgGray = cv2.imread(imgFile, cv2.IMREAD_GRAYSCALE)\n",
    "\n",
    "plt.axis('off')\n",
    "plt.imshow(imgGray, cmap=\"gray\", interpolation='bicubic')\n",
    "plt.show()"
   ]
  },
  {
   "cell_type": "code",
   "execution_count": null,
   "id": "211750e7",
   "metadata": {},
   "outputs": [],
   "source": [
    "#실습 6. matplotlib 4 : 서브플롯에 영상 표시"
   ]
  },
  {
   "cell_type": "code",
   "execution_count": null,
   "id": "43ee0044",
   "metadata": {},
   "outputs": [],
   "source": [
    "imgBGR1 = cv2.imread('./data/lena.jpg')\n",
    "imgBGR2 = cv2.imread('./data/apple.jpg')\n",
    "imgBGR3 = cv2.imread('./data/baboon.jpg')\n",
    "imgBGR4 = cv2.imread('./data/orange.jpg')\n",
    "\n",
    "imgRGB1=cv2.cvtColor(imgBGR1,cv2.COLOR_BGR2RGB)\n",
    "imgRGB2=cv2.cvtColor(imgBGR2,cv2.COLOR_BGR2RGB)\n",
    "imgRGB3=cv2.cvtColor(imgBGR3,cv2.COLOR_BGR2RGB)\n",
    "imgRGB4=cv2.cvtColor(imgBGR4,cv2.COLOR_BGR2RGB)\n"
   ]
  },
  {
   "cell_type": "code",
   "execution_count": null,
   "id": "ce1a132b",
   "metadata": {},
   "outputs": [],
   "source": [
    "fig, ax = plt.subplots(2,2,figsize=(10,10),sharey=True)\n",
    "\n",
    "ax[0][0].axis(\"off\")\n",
    "ax[0][0].imshow(imgRGB1, aspect='auto')\n",
    "\n",
    "ax[0][1].axis(\"off\")\n",
    "ax[0][1].imshow(imgRGB2, aspect='auto')\n",
    "\n",
    "ax[1][0].axis(\"off\")\n",
    "ax[1][0].imshow(imgRGB3, aspect='auto')\n",
    "\n",
    "ax[1][1].axis(\"off\")\n",
    "ax[1][1].imshow(imgRGB4, aspect='auto')\n",
    "\n",
    "plt.subplots_adjust(left=0, bottom=0, right=1, top=1,\n",
    "                    wspace=0.05, hspace=0.05)\n",
    "\n",
    "plt.savefig(\"./out/4images.png\")\n",
    "plt.show()"
   ]
  },
  {
   "cell_type": "code",
   "execution_count": null,
   "id": "efd863f5",
   "metadata": {},
   "outputs": [],
   "source": [
    "# 실습 7. 비디오 캡처와 화면 표시 1"
   ]
  },
  {
   "cell_type": "code",
   "execution_count": null,
   "id": "cc3962a0",
   "metadata": {},
   "outputs": [],
   "source": [
    "cap = cv2.VideoCapture(0)\n",
    "\n",
    "print(cap.isOpened())\n",
    "\n",
    "frame_size = (int(cap.get(cv2.CAP_PROP_FRAME_WIDTH)), int(cap.get(cv2.CAP_PROP_FRAME_HEIGHT)))\n",
    "print(frame_size)\n",
    "\n",
    "\n",
    "while True:\n",
    "    retval, frame = cap.read() # 프레임 캡처\n",
    "    print(retval)\n",
    "    if not retval:\n",
    "        break\n",
    "    \n",
    "    cv2.imshow(\"frame\", frame)\n",
    "    \n",
    "    key = cv2.waitKey(25)\n",
    "    if key == 27: #ESC\n",
    "        break\n",
    "\n",
    "if cap.isOpened():\n",
    "    cap.release()\n",
    "\n",
    "cv2.destroyAllWindows()\n"
   ]
  },
  {
   "cell_type": "code",
   "execution_count": null,
   "id": "2eee6e75",
   "metadata": {},
   "outputs": [],
   "source": [
    "cap = cv2.VideoCapture('man_output.mp4')\n",
    "\n",
    "frame_size = (int(cap.get(cv2.CAP_PROP_FRAME_WIDTH)), int(cap.get(cv2.CAP_PROP_FRAME_HEIGHT)))\n",
    "print(frame_size)\n",
    "\n",
    "while True:\n",
    "    retval, frame = cap.read() #프레임 캡쳐\n",
    "    if not retval:\n",
    "        break\n",
    "        \n",
    "    cv2.imshow('frame', frame)\n",
    "    \n",
    "    key = cv2.waitKey(25)\n",
    "    if key == 27: #ESC\n",
    "        break\n",
    "if cap.isOpened(): #혹시나 처음부터 오류가 났을때 release를 못하니까.\n",
    "    cap.release()\n",
    "    \n",
    "cv2.destroyAllWindows()\n"
   ]
  },
  {
   "cell_type": "code",
   "execution_count": null,
   "id": "fdee4da6",
   "metadata": {
    "scrolled": true
   },
   "outputs": [],
   "source": [
    "cap = cv2.VideoCapture('http://192.168.0.8:4747/mjpegfeed')\n",
    "\n",
    "frame_size = (int(cap.get(cv2.CAP_PROP_FRAME_WIDTH)), int(cap.get(cv2.CAP_PROP_FRAME_HEIGHT)))\n",
    "print(frame_size)\n",
    "\n",
    "while True:\n",
    "    retval, frame = cap.read() #프레임 캡쳐\n",
    "    if not retval:\n",
    "        break\n",
    "        \n",
    "    cv2.imshow('frame', frame)\n",
    "    \n",
    "    key = cv2.waitKey(25)\n",
    "    if key == 27: #ESC\n",
    "        break\n",
    "if cap.isOpened(): #혹시나 처음부터 오류가 났을때 release를 못하니까.\n",
    "    cap.release()\n",
    "    \n",
    "cv2.destroyAllWindows()"
   ]
  },
  {
   "cell_type": "code",
   "execution_count": null,
   "id": "525b95d3",
   "metadata": {},
   "outputs": [],
   "source": [
    "# 유튜브 동영상 보기"
   ]
  },
  {
   "cell_type": "code",
   "execution_count": 38,
   "id": "4ce02c17",
   "metadata": {},
   "outputs": [],
   "source": [
    "import pafy"
   ]
  },
  {
   "cell_type": "code",
   "execution_count": null,
   "id": "e8608e25",
   "metadata": {},
   "outputs": [],
   "source": [
    "url = \"https://www.youtube.com/watch?v=aJmkknD9RYs\"\n",
    "\n",
    "video=pafy.new(url)"
   ]
  },
  {
   "cell_type": "code",
   "execution_count": null,
   "id": "77b11254",
   "metadata": {},
   "outputs": [],
   "source": [
    "print(\"title=\",video.title)\n",
    "print(\"rating=\",video.rating)\n",
    "print(\"duration=\",video.duration)\n"
   ]
  },
  {
   "cell_type": "code",
   "execution_count": null,
   "id": "1cbcc07c",
   "metadata": {},
   "outputs": [],
   "source": [
    "best=video.getbest()"
   ]
  },
  {
   "cell_type": "code",
   "execution_count": null,
   "id": "8e8ad5b3",
   "metadata": {},
   "outputs": [],
   "source": [
    "print(\"best resolution=\", best.resolution)"
   ]
  },
  {
   "cell_type": "code",
   "execution_count": null,
   "id": "7e24a342",
   "metadata": {},
   "outputs": [],
   "source": [
    "cap = cv2.VideoCapture(best.url)\n",
    "\n",
    "frame_size = (int(cap.get(cv2.CAP_PROP_FRAME_WIDTH)), int(cap.get(cv2.CAP_PROP_FRAME_HEIGHT)))\n",
    "print(frame_size)\n",
    "\n",
    "while True:\n",
    "    retval, frame = cap.read() #프레임 캡쳐\n",
    "    if not retval:\n",
    "        break\n",
    "        \n",
    "    cv2.imshow('frame', frame)\n",
    "    \n",
    "    key = cv2.waitKey(25)\n",
    "    if key == 27: #ESC\n",
    "        break\n",
    "if cap.isOpened(): #혹시나 처음부터 오류가 났을때 release를 못하니까.\n",
    "    cap.release()\n",
    "    \n",
    "cv2.destroyAllWindows()"
   ]
  },
  {
   "cell_type": "code",
   "execution_count": null,
   "id": "a62a9c50",
   "metadata": {},
   "outputs": [],
   "source": [
    "# 비디오 파일의 저장"
   ]
  },
  {
   "cell_type": "code",
   "execution_count": null,
   "id": "e62fc856",
   "metadata": {},
   "outputs": [],
   "source": [
    "cap = cv2.VideoCapture('man_output.mp4')\n",
    "\n",
    "frame_size = (int(cap.get(cv2.CAP_PROP_FRAME_WIDTH)), int(cap.get(cv2.CAP_PROP_FRAME_HEIGHT)))\n",
    "print(frame_size)\n",
    "\n",
    "fourcc = cv2.VideoWriter_fourcc(*'XVID')\n",
    "\n",
    "fps = 20.0\n",
    "\n",
    "out1 = cv2.VideoWriter('./out/record1.mp4', fourcc, fps, frame_size)\n",
    "out2 = cv2.VideoWriter('./out/record2.mp4', fourcc, fps, frame_size, isColor = False)\n",
    "\n",
    "while True:\n",
    "    retval, frame = cap.read() # 프레임 캡쳐 retval=return value\n",
    "    if not retval:\n",
    "        break\n",
    "        \n",
    "    cv2.imshow('frame', frame) #보여주기\n",
    "    \n",
    "    out1.write(frame) # 저장\n",
    "    \n",
    "    gray=cv2.cvtColor(frame, cv2.COLOR_BGR2GRAY)\n",
    "    out2.write(gray)\n",
    "    \n",
    "    edges = cv2.Canny(gray, 100, 200)\n",
    "    cv2.imshow(\"edges\", edges)\n",
    "    \n",
    "    key = cv2.waitKey(25)\n",
    "    if key ==27: #ESC\n",
    "        break\n",
    "if cap.isOpened():\n",
    "    cap.release()\n",
    "    \n",
    "out.release()\n",
    "cv2.destroyAllWindows()\n"
   ]
  },
  {
   "cell_type": "code",
   "execution_count": null,
   "id": "6cd5567c",
   "metadata": {},
   "outputs": [],
   "source": [
    "#유튜브 영상 저장하기"
   ]
  },
  {
   "cell_type": "code",
   "execution_count": null,
   "id": "7bff61c6",
   "metadata": {},
   "outputs": [],
   "source": [
    "url = \"https://www.youtube.com/watch?v=aJmkknD9RYs\"\n",
    "\n",
    "video=pafy.new(url)\n",
    "best=video.getbest()\n",
    "\n",
    "cap = cv2.VideoCapture(best.url)\n",
    "\n",
    "frame_size = (int(cap.get(cv2.CAP_PROP_FRAME_WIDTH)), int(cap.get(cv2.CAP_PROP_FRAME_HEIGHT)))\n",
    "print(frame_size)\n",
    "\n",
    "fourcc = cv2.VideoWriter_fourcc(*'XVID')\n",
    "\n",
    "fps = 20.0\n",
    "\n",
    "out1 = cv2.VideoWriter('./out/record1.mp4', fourcc, fps, frame_size)\n",
    "\n",
    "while True:\n",
    "    retval, frame = cap.read() # 프레임 캡쳐 retval=return value\n",
    "    if not retval:\n",
    "        break\n",
    "        \n",
    "    cv2.imshow('frame', frame) #보여주기\n",
    "    \n",
    "    out1.write(frame) # 저장\n",
    "    \n",
    "    key = cv2.waitKey(25)\n",
    "    if key ==27: #ESC\n",
    "        break\n",
    "if cap.isOpened():\n",
    "    cap.release()\n",
    "    \n",
    "out.release()\n",
    "cv2.destroyAllWindows()\n"
   ]
  },
  {
   "cell_type": "code",
   "execution_count": null,
   "id": "ddd1ee51",
   "metadata": {},
   "outputs": [],
   "source": [
    "# 그래픽 및 이벤트 처리"
   ]
  },
  {
   "cell_type": "code",
   "execution_count": null,
   "id": "a07e6785",
   "metadata": {},
   "outputs": [],
   "source": [
    "import numpy as np\n",
    "\n",
    "img = np.zeros((512,512,3), dtype=np.uint8) + 255\n",
    "\n",
    "pt1 = 200, 100\n",
    "pt2 =  400, 400\n",
    "\n",
    "b=0\n",
    "g=255\n",
    "r=0\n",
    "cv2.rectangle(img,pt1,pt2,(b,g,r),2)\n",
    "cv2.imshow('img', img)\n",
    "cv2.waitKey()\n",
    "cv2.destroyAllWindows()"
   ]
  },
  {
   "cell_type": "code",
   "execution_count": null,
   "id": "8ff5f60a",
   "metadata": {},
   "outputs": [],
   "source": [
    "import numpy as np\n",
    "\n",
    "img = np.zeros((512,512,3), dtype=np.uint8) + 255\n",
    "\n",
    "pt1 = 100, 100\n",
    "pt2 =  400, 400\n",
    "\n",
    "pt3 = 0, 0\n",
    "pt4 = 0, 500\n",
    "\n",
    "pt5 = 0, 0\n",
    "pt6 = 0, 500\n",
    "\n",
    "b=np.random.randint(256)\n",
    "g=np.random.randint(256)\n",
    "r=np.random.randint(256)\n",
    "\n",
    "cv2.rectangle(img,pt1,pt2,(b,g,r),2)\n",
    "\n",
    "cv2.line(img,pt3,pt4,(b,g,r),5)\n",
    "cv2.line(img,pt5,pt6,(b,g,r),5)\n",
    "\n",
    "cv2.imshow('img', img)\n",
    "cv2.waitKey()\n",
    "cv2.destroyAllWindows()"
   ]
  },
  {
   "cell_type": "code",
   "execution_count": null,
   "id": "bf8dfd62",
   "metadata": {},
   "outputs": [],
   "source": [
    "#직선과 사각형의 교차점"
   ]
  },
  {
   "cell_type": "code",
   "execution_count": null,
   "id": "eae9f019",
   "metadata": {},
   "outputs": [],
   "source": [
    "img = np.zeros((512,512,3), dtype=np.uint8) + 255\n",
    "\n",
    "x1, y1 = 100, 100\n",
    "x2, y2 =  400, 400\n",
    "\n",
    "#cv2.rectangle(img,(x1,y1),(x2,y2),(b,g,r),2)\n",
    "\n",
    "x3, y3 =  120, 50\n",
    "x4, y4 = 300, 500\n",
    "\n",
    "#cv2.line(img,(x3, y3),(x4, y4 ),(b,g,r),5)\n",
    "\n",
    "imgRect=(x1, y1, x2-x1, y2-y1)\n",
    "retval, rpt1, rpt2=cv2.clipLine(imgRect,(x3, y3),(x4, y4))\n",
    "\n",
    "if retval:\n",
    "    cv2.circle(img, rpt1, radius=10, color=(b,g,r), thickness=-1)\n",
    "    cv2.circle(img, rpt2, radius=10, color=(b,g,r), thickness=-1)\n",
    "    \n",
    "print(rpt1,rpt2)\n",
    "\n",
    "cv2.imshow('img', img)\n",
    "cv2.waitKey()\n",
    "cv2.destroyAllWindows()"
   ]
  },
  {
   "cell_type": "code",
   "execution_count": null,
   "id": "326f621b",
   "metadata": {},
   "outputs": [],
   "source": [
    "#원그리기"
   ]
  },
  {
   "cell_type": "code",
   "execution_count": null,
   "id": "2b5ff9d8",
   "metadata": {},
   "outputs": [],
   "source": [
    "img = np.zeros((512,512,3), dtype=np.uint8) + 255\n",
    "\n",
    "cx =img.shape[0] // 2\n",
    "\n",
    "cy = img.shape[1] // 2\n",
    "\n",
    "for r in range(200, 0, -100):\n",
    "    cv2.circle(img, (cx,cy), r, color=(255,0,0), thickness=1)\n",
    "cv2.circle(img, (cx,cy), 50, color=(0,0,255), thickness=-1)\n",
    "cv2.imshow('img', img)\n",
    "cv2.waitKey()\n",
    "cv2.destroyAllWindows()"
   ]
  },
  {
   "cell_type": "code",
   "execution_count": null,
   "id": "05bcb8e6",
   "metadata": {},
   "outputs": [],
   "source": [
    "cx =img.shape[0] // 2\n",
    "\n",
    "cy = img.shape[1] // 2"
   ]
  },
  {
   "cell_type": "code",
   "execution_count": null,
   "id": "b926dea3",
   "metadata": {},
   "outputs": [],
   "source": [
    "#타원 그리기"
   ]
  },
  {
   "cell_type": "code",
   "execution_count": null,
   "id": "cf61cab8",
   "metadata": {},
   "outputs": [],
   "source": [
    "img = np.zeros((512,512,3), dtype=np.uint8) + 255\n",
    "\n",
    "cx =img.shape[0] // 2\n",
    "\n",
    "cy = img.shape[1] // 2\n",
    "\n",
    "size = 200, 100\n",
    "\n",
    "#cv2.ellipse(img, (cx,cy), size, 0, 0, 360, (0,0,255))\n",
    "#cv2.ellipse(img, (cx,cy), size, 45, 0, 360, (255,0,0))\n",
    "#cv2.ellipse(img, (cx,cy), size, 90, 0, 360, (0,255,0))\n",
    "\n",
    "# box = ((cx,cy),size,0)\n",
    "# cv2.ellipse(img, box, (255, 0, 0), 5)\n",
    "\n",
    "box = ((cx,cy),size,45)\n",
    "cv2.ellipse(img, box, (0, 255, 0), 5)\n",
    "\n",
    "cv2.imshow('img', img)\n",
    "cv2.waitKey()\n",
    "cv2.destroyAllWindows()"
   ]
  },
  {
   "cell_type": "code",
   "execution_count": null,
   "id": "b04fbd7f",
   "metadata": {},
   "outputs": [],
   "source": [
    "#다각형 그리기"
   ]
  },
  {
   "cell_type": "code",
   "execution_count": null,
   "id": "7c3c4ec3",
   "metadata": {},
   "outputs": [],
   "source": [
    "img = np.zeros((512,512,3), dtype=np.uint8) + 255\n",
    "\n",
    "pts1 = np.array([[100,100],[200,100],[200,200],[100,200]])\n",
    "pts2=np.array([[300,200],[400,100],[400,200]])\n",
    "\n",
    "cv2.polylines(img, [pts1, pts2], isClosed= True, color=(255,0,0))\n",
    "\n",
    "cv2.imshow('img', img)\n",
    "cv2.waitKey()\n",
    "cv2.destroyAllWindows()"
   ]
  },
  {
   "cell_type": "code",
   "execution_count": 6,
   "id": "ede2266c",
   "metadata": {},
   "outputs": [],
   "source": [
    "img = np.zeros((512, 512, 3), dtype=np.uint8) + 255\n",
    "\n",
    "cx = img.shape[0] // 2\n",
    "cy = img.shape[1] // 2\n",
    "\n",
    "size = 200, 100\n",
    "\n",
    "cv2.ellipse(img, (cx, cy), size, 0, 0, 360, (0, 0, 255))\n",
    "pts1 = cv2.ellipse2Poly((cx, cy), size, 0, 0, 360, delta=50) #타원에 대해서 점의 좌표를 구하는 것..\n",
    "\n",
    "cv2.ellipse(img, (cx, cy), size, 45, 0, 360, (255, 0, 0))\n",
    "pts2 = cv2.ellipse2Poly((cx, cy), size, 45, 0, 360, delta=50)\n",
    "\n",
    "cv2.polylines(img, [pts2], isClosed=True, color=(255, 0, 0))\n",
    "\n",
    "cv2.imshow('img', img)\n",
    "cv2.waitKey()\n",
    "cv2.destroyAllWindows()\n"
   ]
  },
  {
   "cell_type": "code",
   "execution_count": 17,
   "id": "a71dfddb",
   "metadata": {},
   "outputs": [],
   "source": [
    "img = np.zeros((512, 512, 3), dtype=np.uint8) + 255\n",
    "\n",
    "cx = img.shape[0] // 2\n",
    "cy = img.shape[1] // 2\n",
    "\n",
    "size = 200, 200\n",
    "\n",
    "for angle in range(0,90,10):\n",
    "    box = ((cx,cy),size,angle)\n",
    "    pts = cv2.boxPoints(box).astype(np.int32)\n",
    "    \n",
    "    b=np.random.randint(256)\n",
    "    g=np.random.randint(256)\n",
    "    r=np.random.randint(256)\n",
    "\n",
    "    cv2.polylines(img, [pts], isClosed=True, color=(b, g, r))\n",
    "\n",
    "\n",
    "cv2.imshow('img', img)\n",
    "cv2.waitKey()\n",
    "cv2.destroyAllWindows()\n"
   ]
  },
  {
   "cell_type": "code",
   "execution_count": 19,
   "id": "d5d2d730",
   "metadata": {},
   "outputs": [],
   "source": [
    "img = np.zeros((512, 512, 3), dtype=np.uint8) + 255\n",
    "\n",
    "pts1 = np.array([[100,100],[200,100],[200,200],[100,200]])\n",
    "pts2=np.array([[300,200],[400,100],[400,200]])\n",
    "\n",
    "# cv2.fillConvexPoly(img, pts1, color=(255,0,0))\n",
    "\n",
    "cv2.fillPoly(img, [pts1, pts2], color=[0,0,255])\n",
    "\n",
    "cv2.imshow('img', img)\n",
    "cv2.waitKey()\n",
    "cv2.destroyAllWindows()\n",
    "\n",
    "\n"
   ]
  },
  {
   "cell_type": "code",
   "execution_count": 68,
   "id": "0d10e58c",
   "metadata": {},
   "outputs": [],
   "source": [
    "img = np.zeros((512, 512, 3), dtype=np.uint8) + 255\n",
    "\n",
    "pts1 = np.array([[20,20],[60,20],[60,40],[20,40]])\n",
    "\n",
    "cv2.polylines(img, [pts1], isClosed=True, color=(0,0,255))\n",
    "\n",
    "pts2 = np.array([[20,50],[60,50],[60,70],[20,70]])\n",
    "\n",
    "cv2.fillPoly(img, [pts2], color=(0,0,255))\n",
    "\n",
    "cx =100\n",
    "cy = 50 \n",
    "cv2.circle(img, (cx,cy), 10, color=(200,0,0), thickness=-1)\n",
    "\n",
    "cx =100\n",
    "cy = 50 \n",
    "cv2.circle(img, (cx,cy), 20, color=(255,0,0), thickness=1)\n",
    "\n",
    "size= 25,5\n",
    "cx =50\n",
    "cy = 100\n",
    "cv2.ellipse(img, (cx,cy), size, 30, 45, 280, (0,0,255), thickness=-1)\n",
    "\n",
    "size2= 70,45\n",
    "cx =50\n",
    "cy = 100\n",
    "box = ((cx,cy),size2,30)\n",
    "cv2.ellipse(img, box, (0, 255, 0), 1)\n",
    "\n",
    "pts3 = np.array([[80,80],[100,80],[100,100],[120,100],[120,120],[80,120]])\n",
    "cv2.polylines(img, [pts3], isClosed=True, color=(0,0,255))\n",
    "\n",
    "cv2.imshow('img', img)\n",
    "cv2.waitKey()\n",
    "cv2.destroyAllWindows()"
   ]
  },
  {
   "cell_type": "code",
   "execution_count": 67,
   "id": "5ec5d997",
   "metadata": {},
   "outputs": [],
   "source": [
    "#문자열 출력"
   ]
  },
  {
   "cell_type": "code",
   "execution_count": 85,
   "id": "f14ae218",
   "metadata": {},
   "outputs": [],
   "source": [
    "img = np.zeros((512, 512, 3), dtype=np.uint8) + 255\n",
    "\n",
    "text=\"opencv programming\"\n",
    "org = (50,100)\n",
    "\n",
    "font = cv2.FONT_HERSHEY_SIMPLEX\n",
    "cv2.putText(img,text,org,font,1, (255,0,0),2)\n",
    "\n",
    "size, baseline = cv2.getTextSize(text, font, 1, 2)\n",
    "\n",
    "\n",
    "cv2.rectangle(img, org, (org[0] + size[0], org[1] - size[1]) , (0,0,255))\n",
    "cv2.circle(img, org, 3, (0,255,0), 2)\n",
    "\n",
    "cv2.imshow('img', img)\n",
    "cv2.waitKey()\n",
    "cv2.destroyAllWindows()"
   ]
  },
  {
   "cell_type": "code",
   "execution_count": 87,
   "id": "b5d9b653",
   "metadata": {},
   "outputs": [],
   "source": [
    "# 실습 : 카운트다운 영상 만들기"
   ]
  },
  {
   "cell_type": "code",
   "execution_count": 119,
   "id": "1d69cebd",
   "metadata": {},
   "outputs": [],
   "source": [
    "import time\n",
    "img = np.zeros((512, 512, 3), dtype=np.uint8) + 255\n",
    "fourcc= cv2.VideoWriter_fourcc(*'XVID')\n",
    "fps = 1\n",
    "frame_size = (img.shape[0],img.shape[1])\n",
    "out = cv2.VideoWriter('./out/countdown.mp4', fourcc, fps, frame_size)\n",
    "\n",
    "for i in range(5,0,-1):\n",
    "    \n",
    "    cx =img.shape[0] // 2\n",
    "    cy = img.shape[1] // 2\n",
    "    \n",
    "    text=str(i)\n",
    "    org = (cx,cy)\n",
    "\n",
    "    font = cv2.FONT_HERSHEY_SIMPLEX\n",
    "    cv2.putText(img,text,org,font,2, (255,0,0),2)\n",
    "\n",
    "    size, baseline = cv2.getTextSize(text, font, 2, 2)\n",
    "    cx=img.shape[0]//2 + size[0]//2\n",
    "    cy=img.shape[1]//2 - size[1]//2\n",
    "    \n",
    "    org = (cx,cy)\n",
    "\n",
    "    #cv2.rectangle(img, org, (org[0] + size[0], org[1] - size[1]) , (0,0,255))\n",
    "    cv2.circle(img, org, 30*i, (0,255,0), 1)\n",
    "    cv2.imshow('img', img)\n",
    "    out.write(img)\n",
    "    cv2.waitKey(1000)\n",
    "    img = np.zeros((512, 512, 3), dtype=np.uint8) + 255\n",
    "    \n",
    "cv2.waitKey()\n",
    "out.release()\n",
    "cv2.destroyAllWindows()"
   ]
  },
  {
   "cell_type": "code",
   "execution_count": null,
   "id": "d8712bda",
   "metadata": {},
   "outputs": [],
   "source": []
  }
 ],
 "metadata": {
  "kernelspec": {
   "display_name": "Python 3",
   "language": "python",
   "name": "python3"
  },
  "language_info": {
   "codemirror_mode": {
    "name": "ipython",
    "version": 3
   },
   "file_extension": ".py",
   "mimetype": "text/x-python",
   "name": "python",
   "nbconvert_exporter": "python",
   "pygments_lexer": "ipython3",
   "version": "3.8.8"
  }
 },
 "nbformat": 4,
 "nbformat_minor": 5
}
